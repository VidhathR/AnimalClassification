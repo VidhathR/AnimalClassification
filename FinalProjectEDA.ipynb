{
 "cells": [
  {
   "cell_type": "code",
   "execution_count": 13,
   "metadata": {},
   "outputs": [],
   "source": [
    "import pandas as pd\n",
    "import os\n",
    "import matplotlib.pyplot as plt\n",
    "import re"
   ]
  },
  {
   "cell_type": "code",
   "execution_count": 4,
   "metadata": {},
   "outputs": [],
   "source": [
    "datapath = r'C:\\Users\\vidha\\Machine Learning\\Final\\Animals'"
   ]
  },
  {
   "cell_type": "code",
   "execution_count": 7,
   "metadata": {},
   "outputs": [
    {
     "data": {
      "text/plain": [
       "582"
      ]
     },
     "execution_count": 7,
     "metadata": {},
     "output_type": "execute_result"
    }
   ],
   "source": [
    "totalimages = 0\n",
    "for dirpath, dirnames, filenames in os.walk(datapath):\n",
    "    for file in filenames:\n",
    "        if file.endswith(\".jpg\") or file.endswith(\".jpeg\") or file.endswith(\".png\"):\n",
    "            totalimages += 1\n",
    "totalimages"
   ]
  },
  {
   "cell_type": "code",
   "execution_count": 21,
   "metadata": {},
   "outputs": [
    {
     "data": {
      "image/png": "[encoded data removed]",
      "text/plain": [
       "<Figure size 432x288 with 1 Axes>"
      ]
     },
     "metadata": {
      "needs_background": "light"
     },
     "output_type": "display_data"
    }
   ],
   "source": [
    "categories = {}\n",
    "for dirpath, dirnames, filenames in os.walk(datapath):\n",
    "    animal = os.path.basename(dirpath)\n",
    "    if animal == 'Animals' or animal in categories:\n",
    "        continue\n",
    "    animal = re.sub(r'[\\d.]+', '', animal)\n",
    "    animal = animal.replace('_', ' ')\n",
    "    count = sum(1 for file in filenames if file.endswith(\".jpg\") or file.endswith(\".jpeg\") or file.endswith(\".png\"))\n",
    "    categories[animal] = count\n",
    "    \n",
    "plt.bar(categories.keys(), categories.values())\n",
    "plt.title('Number of Images per Category')\n",
    "plt.xlabel('Category')\n",
    "plt.ylabel('Number of Images')\n",
    "plt.xticks(rotation = 90)\n",
    "plt.show()"
   ]
  },
  {
   "cell_type": "code",
   "execution_count": null,
   "metadata": {},
   "outputs": [],
   "source": [
    "import cv2\n",
    "import numpy as np\n",
    "\n",
    "# Define the path to the main folder\n",
    "path_to_folder = \"Final/Animals/\"\n",
    "\n",
    "# Loop through all subdirectories inside the main folder\n",
    "for subdir in os.listdir(path_to_folder):\n",
    "\n",
    "    # Define the path to the subdirectory\n",
    "    subdir_path = os.path.join(path_to_folder, subdir)\n",
    "\n",
    "    # Check if the subdirectory is a directory\n",
    "    if os.path.isdir(subdir_path):\n",
    "\n",
    "        # Loop through all image files inside the subdirectory\n",
    "        for file in os.listdir(subdir_path):\n",
    "\n",
    "            # Define the path to the image file\n",
    "            file_path = os.path.join(subdir_path, file)\n",
    "\n",
    "            # Check if the file is an image file\n",
    "            if file.endswith(\".jpg\") or file.endswith(\".jpeg\") or file.endswith(\".png\"):\n",
    "\n",
    "                # Read the image file\n",
    "                img = cv2.imread(file_path)\n",
    "\n",
    "                # Apply background removal using the GrabCut algorithm\n",
    "                # ...\n",
    "                mask = np.zeros(img.shape[:2], np.uint8)\n",
    "\n",
    "                # Define the rectangle containing the object you want to keep\n",
    "                rect = (50,50,450,290)\n",
    "\n",
    "                # Initialize the background and foreground models using the rectangle\n",
    "                bgdModel = np.zeros((1, 65), np.float64)\n",
    "                fgdModel = np.zeros((1, 65), np.float64)\n",
    "            \n",
    "                # Apply the GrabCut algorithm to the image to obtain the new mask\n",
    "                cv2.grabCut(img, mask, rect, bgdModel, fgdModel, 5, cv2.GC_INIT_WITH_RECT)\n",
    "\n",
    "                # Create a new mask with only the foreground pixels set to 1\n",
    "                new_mask = np.where((mask == 1) + (mask == 3), 255, 0).astype('uint8')\n",
    "\n",
    "                # Apply the new mask to the original image\n",
    "                result = cv2.bitwise_and(img, img, mask=new_mask)\n",
    "\n",
    "                # Save the result\n",
    "                cv2.imwrite(file_path, result)"
   ]
  }
 ],
 "metadata": {
  "kernelspec": {
   "display_name": "base",
   "language": "python",
   "name": "python3"
  },
  "language_info": {
   "codemirror_mode": {
    "name": "ipython",
    "version": 3
   },
   "file_extension": ".py",
   "mimetype": "text/x-python",
   "name": "python",
   "nbconvert_exporter": "python",
   "pygments_lexer": "ipython3",
   "version": "3.9.12"
  },
  "orig_nbformat": 4
 },
 "nbformat": 4,
 "nbformat_minor": 2
}
