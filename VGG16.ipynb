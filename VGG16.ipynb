{
 "cells": [
  {
   "cell_type": "code",
   "execution_count": 147,
   "metadata": {},
   "outputs": [
    {
     "name": "stdout",
     "output_type": "stream",
     "text": [
      "Model: \"vgg16\"\n",
      "_________________________________________________________________\n",
      " Layer (type)                Output Shape              Param #   \n",
      "=================================================================\n",
      " input_3 (InputLayer)        [(None, 224, 224, 3)]     0         \n",
      "                                                                 \n",
      " block1_conv1 (Conv2D)       (None, 224, 224, 64)      1792      \n",
      "                                                                 \n",
      " block1_conv2 (Conv2D)       (None, 224, 224, 64)      36928     \n",
      "                                                                 \n",
      " block1_pool (MaxPooling2D)  (None, 112, 112, 64)      0         \n",
      "                                                                 \n",
      " block2_conv1 (Conv2D)       (None, 112, 112, 128)     73856     \n",
      "                                                                 \n",
      " block2_conv2 (Conv2D)       (None, 112, 112, 128)     147584    \n",
      "                                                                 \n",
      " block2_pool (MaxPooling2D)  (None, 56, 56, 128)       0         \n",
      "                                                                 \n",
      " block3_conv1 (Conv2D)       (None, 56, 56, 256)       295168    \n",
      "                                                                 \n",
      " block3_conv2 (Conv2D)       (None, 56, 56, 256)       590080    \n",
      "                                                                 \n",
      " block3_conv3 (Conv2D)       (None, 56, 56, 256)       590080    \n",
      "                                                                 \n",
      " block3_pool (MaxPooling2D)  (None, 28, 28, 256)       0         \n",
      "                                                                 \n",
      " block4_conv1 (Conv2D)       (None, 28, 28, 512)       1180160   \n",
      "                                                                 \n",
      " block4_conv2 (Conv2D)       (None, 28, 28, 512)       2359808   \n",
      "                                                                 \n",
      " block4_conv3 (Conv2D)       (None, 28, 28, 512)       2359808   \n",
      "                                                                 \n",
      " block4_pool (MaxPooling2D)  (None, 14, 14, 512)       0         \n",
      "                                                                 \n",
      " block5_conv1 (Conv2D)       (None, 14, 14, 512)       2359808   \n",
      "                                                                 \n",
      " block5_conv2 (Conv2D)       (None, 14, 14, 512)       2359808   \n",
      "                                                                 \n",
      " block5_conv3 (Conv2D)       (None, 14, 14, 512)       2359808   \n",
      "                                                                 \n",
      " block5_pool (MaxPooling2D)  (None, 7, 7, 512)         0         \n",
      "                                                                 \n",
      "=================================================================\n",
      "Total params: 14,714,688\n",
      "Trainable params: 14,714,688\n",
      "Non-trainable params: 0\n",
      "_________________________________________________________________\n"
     ]
    }
   ],
   "source": [
    "from tensorflow import keras\n",
    "from keras.applications import VGG16\n",
    "\n",
    "conv_base = VGG16(weights = \"imagenet\",\n",
    "include_top = False,\n",
    "input_shape = (224, 224, 3))\n",
    "conv_base.summary()"
   ]
  },
  {
   "cell_type": "code",
   "execution_count": 148,
   "metadata": {},
   "outputs": [],
   "source": [
    "for layer in conv_base.layers:\n",
    "    layer.trainable = False"
   ]
  },
  {
   "cell_type": "code",
   "execution_count": 149,
   "metadata": {},
   "outputs": [
    {
     "name": "stderr",
     "output_type": "stream",
     "text": [
      "Copying files: 582 files [00:11, 52.22 files/s]\n"
     ]
    }
   ],
   "source": [
    "import splitfolders\n",
    "inputfolder = 'Final/Animals'\n",
    "output = 'Final'\n",
    "splitfolders.ratio(inputfolder, output = output, seed = 40, ratio = (0.8, 0.1, 0.1))"
   ]
  },
  {
   "cell_type": "code",
   "execution_count": 270,
   "metadata": {},
   "outputs": [],
   "source": [
    "train_datagen = keras.preprocessing.image.ImageDataGenerator(rescale = 1/255.0,\n",
    "                                                             rotation_range = 10,\n",
    "                                                             width_shift_range=0.1,\n",
    "                                                             height_shift_range=0.1,\n",
    "                                                             fill_mode = 'nearest',\n",
    "                                                             shear_range=0.2, \n",
    "                                                             zoom_range=0.2, \n",
    "                                                             horizontal_flip = True,\n",
    "                                                             vertical_flip = True)\n",
    "test_datagen = keras.preprocessing.image.ImageDataGenerator(rescale = 1/255.0)"
   ]
  },
  {
   "cell_type": "code",
   "execution_count": 271,
   "metadata": {},
   "outputs": [
    {
     "name": "stdout",
     "output_type": "stream",
     "text": [
      "Found 465 images belonging to 10 classes.\n",
      "Found 60 images belonging to 10 classes.\n",
      "Found 57 images belonging to 10 classes.\n"
     ]
    }
   ],
   "source": [
    "trainGen = train_datagen.flow_from_directory(\n",
    "    r'C:\\Users\\vidha\\Machine Learning\\Final\\train',\n",
    "    target_size = (224,224),\n",
    "    batch_size = 32,\n",
    "    shuffle = True,\n",
    "    class_mode = 'categorical'\n",
    ")\n",
    "\n",
    "testGen = test_datagen.flow_from_directory(\n",
    "    r'C:\\Users\\vidha\\Machine Learning\\Final\\test',\n",
    "    target_size = (224,224),\n",
    "    batch_size = 32,\n",
    "    class_mode = 'categorical'\n",
    ")\n",
    "\n",
    "valGen = test_datagen.flow_from_directory(\n",
    "    r'C:\\Users\\vidha\\Machine Learning\\Final\\val',\n",
    "    target_size = (224,224),\n",
    "    batch_size = 32,\n",
    "    class_mode = 'categorical'\n",
    ")"
   ]
  },
  {
   "cell_type": "code",
   "execution_count": 272,
   "metadata": {},
   "outputs": [],
   "source": [
    "import numpy as np\n",
    "def extractfeatures(sample_count, generator):\n",
    "    i = 0\n",
    "    batch_size = 32\n",
    "    features = np.zeros(shape=(sample_count, 7, 7, 512))\n",
    "    labels = np.zeros(shape=(sample_count, 10))\n",
    "    for inputs_batch, labels_batch in generator:\n",
    "        features_batch = conv_base.predict(inputs_batch)\n",
    "        features[i * batch_size: (i+1) * batch_size] = features_batch\n",
    "        labels[i * batch_size: (i+1) * batch_size] = labels_batch\n",
    "        i += 1\n",
    "        if ((i * batch_size % 1000) == 0 ):\n",
    "            print(\"processed size =\", i * batch_size)\n",
    "        if i * batch_size >= sample_count:\n",
    "            break\n",
    "    return features, labels"
   ]
  },
  {
   "cell_type": "code",
   "execution_count": 273,
   "metadata": {},
   "outputs": [
    {
     "name": "stdout",
     "output_type": "stream",
     "text": [
      "1/1 [==============================] - 12s 12s/step\n",
      "1/1 [==============================] - 12s 12s/step\n",
      "1/1 [==============================] - 12s 12s/step\n",
      "1/1 [==============================] - 12s 12s/step\n",
      "1/1 [==============================] - 13s 13s/step\n",
      "1/1 [==============================] - 17s 17s/step\n",
      "1/1 [==============================] - 14s 14s/step\n",
      "1/1 [==============================] - 17s 17s/step\n",
      "1/1 [==============================] - 16s 16s/step\n",
      "1/1 [==============================] - 16s 16s/step\n",
      "1/1 [==============================] - 16s 16s/step\n",
      "1/1 [==============================] - 17s 17s/step\n",
      "1/1 [==============================] - 17s 17s/step\n",
      "1/1 [==============================] - 20s 20s/step\n",
      "1/1 [==============================] - 13s 13s/step\n",
      "1/1 [==============================] - 22s 22s/step\n",
      "1/1 [==============================] - 19s 19s/step\n",
      "1/1 [==============================] - 18s 18s/step\n",
      "1/1 [==============================] - 16s 16s/step\n"
     ]
    }
   ],
   "source": [
    "train_features, train_labels = extractfeatures(465, trainGen)\n",
    "test_features, test_labels = extractfeatures(60, testGen)\n",
    "val_features, val_labels = extractfeatures(57, valGen)"
   ]
  },
  {
   "cell_type": "code",
   "execution_count": 304,
   "metadata": {},
   "outputs": [],
   "source": [
    "model = keras.Sequential([\n",
    "    keras.layers.Flatten(input_shape=(7, 7, 512)),\n",
    "    keras.layers.Dense(256, activation = 'relu'),\n",
    "    keras.layers.Dropout(0.5),\n",
    "    keras.layers.Dense(10, activation = 'softmax'),\n",
    "])"
   ]
  },
  {
   "cell_type": "code",
   "execution_count": 305,
   "metadata": {},
   "outputs": [],
   "source": [
    "model.compile(optimizer= keras.optimizers.Adam(learning_rate=0.0001), loss='categorical_crossentropy', metrics=['accuracy'])"
   ]
  },
  {
   "cell_type": "code",
   "execution_count": 306,
   "metadata": {},
   "outputs": [],
   "source": [
    "es = keras.callbacks.EarlyStopping(monitor = 'val_loss', verbose = 1, mode = 'min', patience = 5)"
   ]
  },
  {
   "cell_type": "code",
   "execution_count": 307,
   "metadata": {},
   "outputs": [
    {
     "name": "stdout",
     "output_type": "stream",
     "text": [
      "Epoch 1/10\n",
      "14/14 [==============================] - 7s 211ms/step - loss: 2.5845 - accuracy: 0.0860 - val_loss: 2.1701 - val_accuracy: 0.2807\n",
      "Epoch 2/10\n",
      "14/14 [==============================] - 2s 151ms/step - loss: 2.0973 - accuracy: 0.2624 - val_loss: 2.0432 - val_accuracy: 0.4035\n",
      "Epoch 3/10\n",
      "14/14 [==============================] - 2s 158ms/step - loss: 1.8558 - accuracy: 0.4043 - val_loss: 1.9093 - val_accuracy: 0.3509\n",
      "Epoch 4/10\n",
      "14/14 [==============================] - 2s 147ms/step - loss: 1.6538 - accuracy: 0.4667 - val_loss: 1.8383 - val_accuracy: 0.3860\n",
      "Epoch 5/10\n",
      "14/14 [==============================] - 2s 140ms/step - loss: 1.4631 - accuracy: 0.5269 - val_loss: 1.7096 - val_accuracy: 0.4211\n",
      "Epoch 6/10\n",
      "14/14 [==============================] - 2s 145ms/step - loss: 1.2780 - accuracy: 0.6323 - val_loss: 1.7036 - val_accuracy: 0.2807\n",
      "Epoch 7/10\n",
      "14/14 [==============================] - 2s 167ms/step - loss: 1.1466 - accuracy: 0.6774 - val_loss: 1.5776 - val_accuracy: 0.5088\n",
      "Epoch 8/10\n",
      "14/14 [==============================] - 2s 147ms/step - loss: 1.0286 - accuracy: 0.7247 - val_loss: 1.5315 - val_accuracy: 0.4035\n",
      "Epoch 9/10\n",
      "14/14 [==============================] - 2s 150ms/step - loss: 0.8958 - accuracy: 0.7763 - val_loss: 1.5005 - val_accuracy: 0.4386\n",
      "Epoch 10/10\n",
      "14/14 [==============================] - 2s 145ms/step - loss: 0.8289 - accuracy: 0.7742 - val_loss: 1.4896 - val_accuracy: 0.5263\n"
     ]
    },
    {
     "data": {
      "text/plain": [
       "<keras.callbacks.History at 0x15358028b50>"
      ]
     },
     "execution_count": 307,
     "metadata": {},
     "output_type": "execute_result"
    }
   ],
   "source": [
    "model.fit(train_features, train_labels, steps_per_epoch = 465 // 32, validation_data = (val_features, val_labels), validation_steps = 57 // 32, epochs = 10, callbacks = [es])"
   ]
  },
  {
   "cell_type": "code",
   "execution_count": 308,
   "metadata": {},
   "outputs": [
    {
     "name": "stdout",
     "output_type": "stream",
     "text": [
      "1/1 [==============================] - 1s 749ms/step - loss: 1.4920 - accuracy: 0.5167\n"
     ]
    },
    {
     "data": {
      "text/plain": [
       "[1.492045283317566, 0.5166666507720947]"
      ]
     },
     "execution_count": 308,
     "metadata": {},
     "output_type": "execute_result"
    }
   ],
   "source": [
    "model.evaluate(test_features, test_labels, steps = 60//32)"
   ]
  },
  {
   "cell_type": "code",
   "execution_count": 309,
   "metadata": {},
   "outputs": [
    {
     "name": "stdout",
     "output_type": "stream",
     "text": [
      "14/14 [==============================] - 0s 21ms/step - loss: 0.6163 - accuracy: 0.9247\n"
     ]
    },
    {
     "data": {
      "text/plain": [
       "[0.6162633299827576, 0.9247311949729919]"
      ]
     },
     "execution_count": 309,
     "metadata": {},
     "output_type": "execute_result"
    }
   ],
   "source": [
    "model.evaluate(train_features, train_labels, steps = 465 // 32)"
   ]
  }
 ],
 "metadata": {
  "kernelspec": {
   "display_name": "base",
   "language": "python",
   "name": "python3"
  },
  "language_info": {
   "codemirror_mode": {
    "name": "ipython",
    "version": 3
   },
   "file_extension": ".py",
   "mimetype": "text/x-python",
   "name": "python",
   "nbconvert_exporter": "python",
   "pygments_lexer": "ipython3",
   "version": "3.9.12"
  },
  "orig_nbformat": 4
 },
 "nbformat": 4,
 "nbformat_minor": 2
}
